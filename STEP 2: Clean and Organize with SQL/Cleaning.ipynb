{
 "cells": [
  {
   "cell_type": "markdown",
   "metadata": {},
   "source": [
     "# Making the data usable\n",
    "\n",
    "Many columns wouldn't be useful for analyzing grass germination\n",

     <details>
      <summary>Click me</summary>
       "ALTER TABLE weather\n
DROP COLUMN station,\n
DROP COLUMN drct,\n
DROP COLUMN p01i,\n
DROP COLUMN alti,\n
DROP COLUMN mslp,\n
DROP COLUMN vsby,\n
DROP COLUMN gust,\n
DROP COLUMN skyc1,\n
DROP COLUMN skyc2,\n
DROP COLUMN skyc3,\n
DROP COLUMN skyc4,\n
DROP COLUMN skyl1,\n
DROP COLUMN skyl2,\n
DROP COLUMN skyl3,\n
DROP COLUMN skyl4,\n
DROP COLUMN ice_accretion_1hr,\n
DROP COLUMN ice_accretion_3hr,\n
DROP COLUMN ice_accretion_6hr,\n
DROP COLUMN peak_wind_gust,\n
DROP COLUMN peak_wind_drct,\n
DROP COLUMN peak_wind_time,\n
DROP COLUMN feel,\n
DROP COLUMN metar,\n
DROP COLUMN snowdepth;\n"
  
      </details>

    "![](/Grass-Germination/STEP%202:%20Clean%20and%20Organize%20with%20SQL/TableImages/RawTableDetails.png)\n",

    "![](/Grass-Germination/STEP%202:%20Clean%20and%20Organize%20with%20SQL/TableImages/FirstInspection.png)\n"
    
   ]
  }
    
