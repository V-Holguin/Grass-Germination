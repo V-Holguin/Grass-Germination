{
 "cells": [
  {
   "cell_type": "markdown",
   "metadata": {},
   "source": [
     "# Making the data usable\n",
    "\n",
    "Many columns wouldn't be useful for analyzing grass germination\n",
     <details>
    <summary>Placeholder</summary>

     </details>

    "![](/Grass-Germination/STEP%202:%20Clean%20and%20Organize%20with%20SQL/TableImages/RawTableDetails.png)\n",

    "![](/Grass-Germination/STEP%202:%20Clean%20and%20Organize%20with%20SQL/TableImages/FirstInspection.png)\n"
    
   ]
  }
    
